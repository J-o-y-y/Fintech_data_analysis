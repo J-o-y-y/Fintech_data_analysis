{
  "nbformat": 4,
  "nbformat_minor": 0,
  "metadata": {
    "colab": {
      "provenance": [],
      "authorship_tag": "ABX9TyOXahz5P7F+6f+2OpoVwWgb",
      "include_colab_link": true
    },
    "kernelspec": {
      "name": "python3",
      "display_name": "Python 3"
    },
    "language_info": {
      "name": "python"
    }
  },
  "cells": [
    {
      "cell_type": "markdown",
      "metadata": {
        "id": "view-in-github",
        "colab_type": "text"
      },
      "source": [
        "<a href=\"https://colab.research.google.com/github/J-o-y-y/Fintech_data_analysis/blob/main/BOW(Bag_of_Words)%EB%8B%A8%EC%96%B4%EC%9D%98%20%ED%91%9C%ED%98%84_%EC%8B%A4%EC%8A%B5.ipynb\" target=\"_parent\"><img src=\"https://colab.research.google.com/assets/colab-badge.svg\" alt=\"Open In Colab\"/></a>"
      ]
    },
    {
      "cell_type": "markdown",
      "source": [
        "# BOW(Bag of Words)"
      ],
      "metadata": {
        "id": "EM-RL3eYCL9Y"
      }
    },
    {
      "cell_type": "code",
      "execution_count": 3,
      "metadata": {
        "id": "0SL3xojgCGNl"
      },
      "outputs": [],
      "source": [
        "docs = ['오늘 동물원에서 코끼리 원숭이를 보고 코끼리 원숭이에게 먹이를 줬어',\n",
        "       '오늘 동물원에서 원숭이에게 사과를 줬어']"
      ]
    },
    {
      "cell_type": "code",
      "source": [
        "doc_Is = []\n",
        "for doc in docs:\n",
        "    doc_Is.append(doc.split(' '))\n",
        "doc_Is"
      ],
      "metadata": {
        "colab": {
          "base_uri": "https://localhost:8080/"
        },
        "id": "fVxHwUmEUpQc",
        "outputId": "ae1b9c86-2e30-43c2-f10c-4459b882d9e0"
      },
      "execution_count": 4,
      "outputs": [
        {
          "output_type": "execute_result",
          "data": {
            "text/plain": [
              "[['오늘', '동물원에서', '코끼리', '원숭이를', '보고', '코끼리', '원숭이에게', '먹이를', '줬어'],\n",
              " ['오늘', '동물원에서', '원숭이에게', '사과를', '줬어']]"
            ]
          },
          "metadata": {},
          "execution_count": 4
        }
      ]
    },
    {
      "cell_type": "code",
      "source": [
        "pip install konlpy"
      ],
      "metadata": {
        "colab": {
          "base_uri": "https://localhost:8080/"
        },
        "id": "YTZsf1YrU33p",
        "outputId": "b04f13c2-ee64-4921-9ff2-092bfac9b2f7"
      },
      "execution_count": 5,
      "outputs": [
        {
          "output_type": "stream",
          "name": "stdout",
          "text": [
            "Collecting konlpy\n",
            "  Downloading konlpy-0.6.0-py2.py3-none-any.whl (19.4 MB)\n",
            "\u001b[2K     \u001b[90m━━━━━━━━━━━━━━━━━━━━━━━━━━━━━━━━━━━━━━━━\u001b[0m \u001b[32m19.4/19.4 MB\u001b[0m \u001b[31m54.3 MB/s\u001b[0m eta \u001b[36m0:00:00\u001b[0m\n",
            "\u001b[?25hCollecting JPype1>=0.7.0 (from konlpy)\n",
            "  Downloading JPype1-1.4.1-cp310-cp310-manylinux_2_12_x86_64.manylinux2010_x86_64.whl (465 kB)\n",
            "\u001b[2K     \u001b[90m━━━━━━━━━━━━━━━━━━━━━━━━━━━━━━━━━━━━━━\u001b[0m \u001b[32m465.3/465.3 kB\u001b[0m \u001b[31m39.9 MB/s\u001b[0m eta \u001b[36m0:00:00\u001b[0m\n",
            "\u001b[?25hRequirement already satisfied: lxml>=4.1.0 in /usr/local/lib/python3.10/dist-packages (from konlpy) (4.9.3)\n",
            "Requirement already satisfied: numpy>=1.6 in /usr/local/lib/python3.10/dist-packages (from konlpy) (1.23.5)\n",
            "Requirement already satisfied: packaging in /usr/local/lib/python3.10/dist-packages (from JPype1>=0.7.0->konlpy) (23.2)\n",
            "Installing collected packages: JPype1, konlpy\n",
            "Successfully installed JPype1-1.4.1 konlpy-0.6.0\n"
          ]
        }
      ]
    },
    {
      "cell_type": "code",
      "source": [
        "from konlpy.tag import Okt  # 형태소 분석기\n",
        "\n",
        "docs = [\n",
        "    '오늘 동물원에서 코끼리 원숭이를 보고 코끼리 원숭이에게 먹이를 줬어',\n",
        "    '오늘 동물원에서 원숭이에게 사과를 줬어'\n",
        "]\n",
        "\n",
        "tokenizer = Okt()\n",
        "\n",
        "# 각 문서를 단어로 분할한 결과를 저장할 리스트\n",
        "doc_tokens = []\n",
        "\n",
        "for doc in docs:\n",
        "    tokens = tokenizer.morphs(doc)  # 형태소 분석을 수행하여 단어로 분할\n",
        "    doc_tokens.append(tokens)\n",
        "\n",
        "# 결과 출력\n",
        "for i, tokens in enumerate(doc_tokens):\n",
        "    print(f'Doc {i + 1} tokens: {tokens}')\n"
      ],
      "metadata": {
        "colab": {
          "base_uri": "https://localhost:8080/"
        },
        "id": "7Xr_WBopWFVH",
        "outputId": "47180ee6-0102-426c-f22a-2516b8e29cb9"
      },
      "execution_count": 6,
      "outputs": [
        {
          "output_type": "stream",
          "name": "stdout",
          "text": [
            "Doc 1 tokens: ['오늘', '동물원', '에서', '코끼리', '원숭이', '를', '보고', '코끼리', '원숭이', '에게', '먹이', '를', '줬어']\n",
            "Doc 2 tokens: ['오늘', '동물원', '에서', '원숭이', '에게', '사과', '를', '줬어']\n"
          ]
        }
      ]
    },
    {
      "cell_type": "markdown",
      "source": [
        "# 각 토큰에 고유 인덱스를 부여"
      ],
      "metadata": {
        "id": "smHW_fMbYQAI"
      }
    },
    {
      "cell_type": "code",
      "source": [
        "from konlpy.tag import Okt\n",
        "\n",
        "docs = [\n",
        "    '오늘 동물원에서 코끼리 원숭이를 보고 코끼리 원숭이에게 먹이를 줬어',\n",
        "    '오늘 동물원에서 원숭이에게 사과를 줬어'\n",
        "]\n",
        "\n",
        "tokenizer = Okt()\n",
        "\n",
        "# 각 문서를 단어로 분할한 결과를 저장할 리스트\n",
        "doc_tokens = []\n",
        "\n",
        "# 단어사전을 초기화\n",
        "word2index = {}\n",
        "\n",
        "# 고유 인덱스를 초기화\n",
        "index = 0\n",
        "\n",
        "for doc in docs:\n",
        "    tokens = tokenizer.morphs(doc)  # 형태소 분석을 수행하여 단어로 분할\n",
        "    indexed_tokens = []\n",
        "\n",
        "    for token in tokens:\n",
        "        if token not in word2index:\n",
        "            word2index[token] = index\n",
        "            index += 1\n",
        "        indexed_tokens.append(word2index[token])\n",
        "\n",
        "    doc_tokens.append(indexed_tokens)\n",
        "\n",
        "# 결과 출력\n",
        "for i, tokens in enumerate(doc_tokens):\n",
        "    print(f'Doc {i + 1} indexed tokens: {tokens}')\n",
        "\n",
        "# 단어사전 출력\n",
        "print('단어사전 (단어: 인덱스):')\n",
        "print(word2index)\n"
      ],
      "metadata": {
        "colab": {
          "base_uri": "https://localhost:8080/"
        },
        "id": "2XNjX5z-XqAk",
        "outputId": "2f302685-6702-4fc2-ae0e-32f601b1bd74"
      },
      "execution_count": 7,
      "outputs": [
        {
          "output_type": "stream",
          "name": "stdout",
          "text": [
            "Doc 1 indexed tokens: [0, 1, 2, 3, 4, 5, 6, 3, 4, 7, 8, 5, 9]\n",
            "Doc 2 indexed tokens: [0, 1, 2, 4, 7, 10, 5, 9]\n",
            "단어사전 (단어: 인덱스):\n",
            "{'오늘': 0, '동물원': 1, '에서': 2, '코끼리': 3, '원숭이': 4, '를': 5, '보고': 6, '에게': 7, '먹이': 8, '줬어': 9, '사과': 10}\n"
          ]
        }
      ]
    },
    {
      "cell_type": "markdown",
      "source": [
        "# 각 인덱스 위치에 토큰 등장 횟수를 기록\n"
      ],
      "metadata": {
        "id": "vIULmjDbYJC8"
      }
    },
    {
      "cell_type": "code",
      "source": [
        "from konlpy.tag import Okt\n",
        "\n",
        "docs = [\n",
        "    '오늘 동물원에서 코끼리 원숭이를 보고 코끼리 원숭이에게 먹이를 줬어',\n",
        "    '오늘 동물원에서 원숭이에게 사과를 줬어'\n",
        "]\n",
        "\n",
        "tokenizer = Okt()\n",
        "\n",
        "# 각 문서를 단어로 분할한 결과를 저장할 리스트\n",
        "doc_tokens = []\n",
        "\n",
        "# 단어사전을 초기화\n",
        "word2index = {}\n",
        "\n",
        "# 각 인덱스 위치에 토큰 등장 횟수를 저장할 딕셔너리 초기화\n",
        "index2count = {}\n",
        "\n",
        "# 고유 인덱스를 초기화\n",
        "index = 0\n",
        "\n",
        "for doc in docs:\n",
        "    tokens = tokenizer.morphs(doc)  # 형태소 분석을 수행하여 단어로 분할\n",
        "    indexed_tokens = []\n",
        "\n",
        "    for token in tokens:\n",
        "        if token not in word2index:\n",
        "            word2index[token] = index\n",
        "            index2count[index] = 1\n",
        "            index += 1\n",
        "        else:\n",
        "            index2count[word2index[token]] += 1\n",
        "        indexed_tokens.append(word2index[token])\n",
        "\n",
        "    doc_tokens.append(indexed_tokens)\n",
        "\n",
        "# 결과 출력\n",
        "for i, tokens in enumerate(doc_tokens):\n",
        "    print(f'Doc {i + 1} indexed tokens: {tokens}')\n",
        "\n",
        "# 각 인덱스 위치에 토큰 등장 횟수 출력\n",
        "for index, count in index2count.items():\n",
        "    print(f'Index {index}: Count {count}')\n",
        "\n",
        "# 단어사전 출력\n",
        "print('단어사전 (단어: 인덱스):')\n",
        "print(word2index)\n"
      ],
      "metadata": {
        "colab": {
          "base_uri": "https://localhost:8080/"
        },
        "id": "XW7aCaM6YBoH",
        "outputId": "2b4a63c1-e361-4718-9c35-d51112c4093c"
      },
      "execution_count": 8,
      "outputs": [
        {
          "output_type": "stream",
          "name": "stdout",
          "text": [
            "Doc 1 indexed tokens: [0, 1, 2, 3, 4, 5, 6, 3, 4, 7, 8, 5, 9]\n",
            "Doc 2 indexed tokens: [0, 1, 2, 4, 7, 10, 5, 9]\n",
            "Index 0: Count 2\n",
            "Index 1: Count 2\n",
            "Index 2: Count 2\n",
            "Index 3: Count 2\n",
            "Index 4: Count 3\n",
            "Index 5: Count 3\n",
            "Index 6: Count 1\n",
            "Index 7: Count 2\n",
            "Index 8: Count 1\n",
            "Index 9: Count 2\n",
            "Index 10: Count 1\n",
            "단어사전 (단어: 인덱스):\n",
            "{'오늘': 0, '동물원': 1, '에서': 2, '코끼리': 3, '원숭이': 4, '를': 5, '보고': 6, '에게': 7, '먹이': 8, '줬어': 9, '사과': 10}\n"
          ]
        }
      ]
    }
  ]
}