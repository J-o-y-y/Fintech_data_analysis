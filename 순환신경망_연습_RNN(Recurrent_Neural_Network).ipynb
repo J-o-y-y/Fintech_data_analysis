{
  "nbformat": 4,
  "nbformat_minor": 0,
  "metadata": {
    "colab": {
      "provenance": [],
      "authorship_tag": "ABX9TyPdxw8ugGtGXpu6Cc7s3e2n",
      "include_colab_link": true
    },
    "kernelspec": {
      "name": "python3",
      "display_name": "Python 3"
    },
    "language_info": {
      "name": "python"
    }
  },
  "cells": [
    {
      "cell_type": "markdown",
      "metadata": {
        "id": "view-in-github",
        "colab_type": "text"
      },
      "source": [
        "<a href=\"https://colab.research.google.com/github/J-o-y-y/Fintech_data_analysis/blob/main/%EC%88%9C%ED%99%98%EC%8B%A0%EA%B2%BD%EB%A7%9D_%EC%97%B0%EC%8A%B5_RNN(Recurrent_Neural_Network).ipynb\" target=\"_parent\"><img src=\"https://colab.research.google.com/assets/colab-badge.svg\" alt=\"Open In Colab\"/></a>"
      ]
    },
    {
      "cell_type": "code",
      "execution_count": 1,
      "metadata": {
        "id": "Zz4kwMxg25gj"
      },
      "outputs": [],
      "source": [
        "import numpy as np\n",
        "import tensorflow as tf\n",
        "from tensorflow import keras\n",
        "from tensorflow.keras import layers"
      ]
    },
    {
      "cell_type": "code",
      "source": [
        "train_X = [[1,2,3,4,5],\n",
        "           [2,4,6,8,10],\n",
        "           [1,3,5,7,9],\n",
        "           [0,2,4,6,8]]\n",
        "print(np.shape(train_X))"
      ],
      "metadata": {
        "colab": {
          "base_uri": "https://localhost:8080/"
        },
        "id": "so8zDYxn3Lw9",
        "outputId": "e16f2138-6bf6-47bf-d708-5f334d0934ba"
      },
      "execution_count": 2,
      "outputs": [
        {
          "output_type": "stream",
          "name": "stdout",
          "text": [
            "(4, 5)\n"
          ]
        }
      ]
    },
    {
      "cell_type": "code",
      "source": [
        "train_X = np.array(train_X, dtype=np.float32)\n",
        "print(train_X.shape)"
      ],
      "metadata": {
        "colab": {
          "base_uri": "https://localhost:8080/"
        },
        "id": "WE7vVnMw3b2_",
        "outputId": "9a8025f2-175b-4b63-cbb0-1e117efe7cb6"
      },
      "execution_count": 3,
      "outputs": [
        {
          "output_type": "stream",
          "name": "stdout",
          "text": [
            "(4, 5)\n"
          ]
        }
      ]
    },
    {
      "cell_type": "code",
      "source": [
        "train_X"
      ],
      "metadata": {
        "colab": {
          "base_uri": "https://localhost:8080/"
        },
        "id": "zQNi18MX3nHR",
        "outputId": "d342ea0a-ed9b-4537-9bb8-f9e97015d24a"
      },
      "execution_count": 4,
      "outputs": [
        {
          "output_type": "execute_result",
          "data": {
            "text/plain": [
              "array([[ 1.,  2.,  3.,  4.,  5.],\n",
              "       [ 2.,  4.,  6.,  8., 10.],\n",
              "       [ 1.,  3.,  5.,  7.,  9.],\n",
              "       [ 0.,  2.,  4.,  6.,  8.]], dtype=float32)"
            ]
          },
          "metadata": {},
          "execution_count": 4
        }
      ]
    },
    {
      "cell_type": "code",
      "source": [
        "train_X = np.array([train_X], dtype=np.float32)\n",
        "print(train_X.shape)"
      ],
      "metadata": {
        "colab": {
          "base_uri": "https://localhost:8080/"
        },
        "id": "ensj7gUE3q0g",
        "outputId": "12ba9b01-2b76-43fb-f31a-7f57dd7fdf90"
      },
      "execution_count": 6,
      "outputs": [
        {
          "output_type": "stream",
          "name": "stdout",
          "text": [
            "(1, 4, 5)\n"
          ]
        }
      ]
    },
    {
      "cell_type": "code",
      "source": [
        "hidden_size = 3\n",
        "cell = layers.SimpleRNNCell(units = hidden_size)\n",
        "rnn = layers.RNN(cell, return_sequences=True, return_state=False)\n",
        "hidden_state = rnn(train_X)\n",
        "\n",
        "print('hidden_state : {} .t shape : {}'.format (hidden_state, hidden_state.shape))"
      ],
      "metadata": {
        "colab": {
          "base_uri": "https://localhost:8080/"
        },
        "id": "WgPn6Ms23228",
        "outputId": "448d1904-ba61-473b-fcf6-d30ad2096bf9"
      },
      "execution_count": 8,
      "outputs": [
        {
          "output_type": "stream",
          "name": "stdout",
          "text": [
            "hidden_state : [[[ 0.99932665  0.9278535  -0.9847413 ]\n",
            "  [ 1.          0.99884814 -0.99697536]\n",
            "  [ 0.9999975   0.9980813  -0.9642103 ]\n",
            "  [ 0.9999741   0.99671316 -0.67630905]]] .t shape : (1, 4, 3)\n"
          ]
        }
      ]
    },
    {
      "cell_type": "code",
      "source": [
        "cell = layers.SimpleRNNCell(units = hidden_size)\n",
        "rnn = layers.RNN(cell, return_sequences=False, return_state=False)\n",
        "hidden_state = rnn(train_X)"
      ],
      "metadata": {
        "id": "tYhu7ODK4wzS"
      },
      "execution_count": 9,
      "outputs": []
    },
    {
      "cell_type": "code",
      "source": [
        "cell = layers.SimpleRNNCell(units = hidden_size)\n",
        "rnn = layers.RNN(cell, return_sequences=True, return_state=True)\n",
        "hidden_state, last_state = rnn(train_X)\n",
        "\n",
        "print('hidden_state : {} / t shape : {}'.format(hidden_state, hidden_state.shape))\n",
        "print('last_state : {} /t shape : {}'.format(last_state, last_state.shape))"
      ],
      "metadata": {
        "colab": {
          "base_uri": "https://localhost:8080/"
        },
        "id": "oWT_aN8x5Kue",
        "outputId": "82ca3fbb-5390-41b4-f2e1-2ab2741992ec"
      },
      "execution_count": 12,
      "outputs": [
        {
          "output_type": "stream",
          "name": "stdout",
          "text": [
            "hidden_state : [[[-0.9968895   0.9583004  -0.11406533]\n",
            "  [-0.99999964  0.99881953  0.22919552]\n",
            "  [-0.99999917  0.9954938  -0.6581593 ]\n",
            "  [-0.999996    0.99146277 -0.58491606]]] / t shape : (1, 4, 3)\n",
            "last_state : [[-0.999996    0.99146277 -0.58491606]] /t shape : (1, 3)\n"
          ]
        }
      ]
    },
    {
      "cell_type": "code",
      "source": [
        "cell = layers.SimpleRNNCell(units = hidden_size)\n",
        "rnn = layers.RNN(cell, return_sequences=False, return_state=True)\n",
        "hidden_state, last_state = rnn(train_X)\n",
        "\n",
        "print('hidden_state : {} /t shape : {}'.format(hidden_state, hidden_state.shape))\n",
        "print('last_state : {} /t shape : {}'.format(last_state, last_state.shape))"
      ],
      "metadata": {
        "colab": {
          "base_uri": "https://localhost:8080/"
        },
        "id": "APL_neWS5fIC",
        "outputId": "d2497096-bc00-4860-e16c-cdf08a5c4a4e"
      },
      "execution_count": 17,
      "outputs": [
        {
          "output_type": "stream",
          "name": "stdout",
          "text": [
            "hidden_state : [[ 0.9398323 -0.9999795  0.9978273]] /t shape : (1, 3)\n",
            "last_state : [[ 0.9398323 -0.9999795  0.9978273]] /t shape : (1, 3)\n"
          ]
        }
      ]
    }
  ]
}