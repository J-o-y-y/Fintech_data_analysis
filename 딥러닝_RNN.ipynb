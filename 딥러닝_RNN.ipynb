{
  "nbformat": 4,
  "nbformat_minor": 0,
  "metadata": {
    "colab": {
      "provenance": [],
      "authorship_tag": "ABX9TyONHmQsvYRw8oMgzUpIwFwm",
      "include_colab_link": true
    },
    "kernelspec": {
      "name": "python3",
      "display_name": "Python 3"
    },
    "language_info": {
      "name": "python"
    }
  },
  "cells": [
    {
      "cell_type": "markdown",
      "metadata": {
        "id": "view-in-github",
        "colab_type": "text"
      },
      "source": [
        "<a href=\"https://colab.research.google.com/github/J-o-y-y/Fintech_data_analysis/blob/main/%EB%94%A5%EB%9F%AC%EB%8B%9D_RNN.ipynb\" target=\"_parent\"><img src=\"https://colab.research.google.com/assets/colab-badge.svg\" alt=\"Open In Colab\"/></a>"
      ]
    },
    {
      "cell_type": "markdown",
      "source": [
        "![image.png](data:image/png;base64,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)"
      ],
      "metadata": {
        "id": "BgiI9qVHhlFz"
      }
    },
    {
      "cell_type": "code",
      "execution_count": 26,
      "metadata": {
        "id": "ToWYze_hfZgX"
      },
      "outputs": [],
      "source": [
        "import numpy as np\n",
        "import tensorflow as tf\n",
        "from tensorflow import keras\n",
        "from tensorflow.keras import layers"
      ]
    },
    {
      "cell_type": "code",
      "source": [
        "train_x = [[1,2,3,4,5],\n",
        "           [2,4,6,8,10],\n",
        "           [1,3,5,7,9],\n",
        "           [0,2,4,6,8]]\n",
        "\n",
        "print(np.shape(train_x))"
      ],
      "metadata": {
        "colab": {
          "base_uri": "https://localhost:8080/"
        },
        "id": "TuKHuunSfnHP",
        "outputId": "ef3b19ff-d6bb-4334-ed2c-81c5f66b79ff"
      },
      "execution_count": 27,
      "outputs": [
        {
          "output_type": "stream",
          "name": "stdout",
          "text": [
            "(4, 5)\n"
          ]
        }
      ]
    },
    {
      "cell_type": "code",
      "source": [
        "train_x"
      ],
      "metadata": {
        "colab": {
          "base_uri": "https://localhost:8080/"
        },
        "id": "VR1efYQ-gc4Y",
        "outputId": "0ff4594d-0501-4539-c075-a41d03740c0e"
      },
      "execution_count": 30,
      "outputs": [
        {
          "output_type": "execute_result",
          "data": {
            "text/plain": [
              "[[1, 2, 3, 4, 5], [2, 4, 6, 8, 10], [1, 3, 5, 7, 9], [0, 2, 4, 6, 8]]"
            ]
          },
          "metadata": {},
          "execution_count": 30
        }
      ]
    },
    {
      "cell_type": "markdown",
      "source": [
        "# 토마토\n",
        "input = '토토마를자먹'\n",
        "\n",
        "output = '토마토를먹자'"
      ],
      "metadata": {
        "id": "KyVro5jAk4Ro"
      }
    },
    {
      "cell_type": "code",
      "source": [
        "import numpy as np\n",
        "import tensorflow as tf\n",
        "from tensorflow.keras.models import Sequential\n",
        "from tensorflow.keras.layers import SimpleRNNCell, Dense, TimeDistributed, RNN"
      ],
      "metadata": {
        "id": "EkUVxS8-lC99"
      },
      "execution_count": null,
      "outputs": []
    },
    {
      "cell_type": "code",
      "source": [
        "inx2char = ['토','마','를','먹','자']\n",
        "\n",
        "x_data = [[0,0,1,2,4,3]]\n",
        "y_data = [[0,1,0,2,3,4]]\n",
        "\n",
        "num_classes = 5\n",
        "input_dim = 5\n",
        "sequence_len = 6\n",
        "learning_rate = 0.1"
      ],
      "metadata": {
        "id": "0QfCDuQvlZPg"
      },
      "execution_count": null,
      "outputs": []
    },
    {
      "cell_type": "code",
      "source": [
        "# 데이터 변환 - 원핫인코딩\n",
        "\n",
        "x_one_hot = tf.keras.utils.to_categorical(x_data, num_classes=num_classes)\n",
        "y_one_hot = tf.keras.utils.to_categorical(y_data, num_classes=num_classes)"
      ],
      "metadata": {
        "id": "HItaplqRmmhG"
      },
      "execution_count": null,
      "outputs": []
    },
    {
      "cell_type": "code",
      "source": [
        "x_one_hot"
      ],
      "metadata": {
        "id": "n_hmiAefnEoK"
      },
      "execution_count": null,
      "outputs": []
    },
    {
      "cell_type": "code",
      "source": [
        "y_one_hot"
      ],
      "metadata": {
        "id": "_Qfe20F9nGXb"
      },
      "execution_count": null,
      "outputs": []
    },
    {
      "cell_type": "code",
      "source": [
        "x_one_hot.shape"
      ],
      "metadata": {
        "id": "vXGcrKZGnMEx"
      },
      "execution_count": null,
      "outputs": []
    },
    {
      "cell_type": "code",
      "source": [
        "model = Sequential()\n",
        "cell = SimpleRNNCell(units=num_classes, input_shape=(sequence_len, input_dim))\n",
        "\n",
        "model.add(RNN(cell=cell,\n",
        "              return_sequences=True,\n",
        "              return_state=False,\n",
        "              input_shape= (sequence_len, input_dim)))\n",
        "model.add(TimeDistributed(Dense(units=num_classes, activation='softmax')))\n",
        "\n",
        "model.compile(loss='categorical_crossentropy',\n",
        "              optimizer=tf.keras.optimizers.Adam(learning_rate=learning_rate),\n",
        "              metrics=['accuracy'])\n",
        "\n",
        "model.summary()"
      ],
      "metadata": {
        "id": "nXVNKhjGnjEU"
      },
      "execution_count": null,
      "outputs": []
    },
    {
      "cell_type": "code",
      "source": [
        "model.fit(x_one_hot, y_one_hot, epochs=10)"
      ],
      "metadata": {
        "id": "qaClXiuppqdh"
      },
      "execution_count": null,
      "outputs": []
    },
    {
      "cell_type": "code",
      "source": [
        "pred = model.predict(x_one_hot)\n",
        "pred"
      ],
      "metadata": {
        "id": "6DRXTBOTpvpp"
      },
      "execution_count": null,
      "outputs": []
    },
    {
      "cell_type": "code",
      "source": [
        "# Make predictions using the model\n",
        "pred = model.predict(x_one_hot)\n",
        "\n",
        "# Iterate through the predictions and print the corresponding characters\n",
        "for i, word in enumerate(pred):\n",
        "    print(\" \".join([inx2char[c] for c in np.argmax(word, axis=1)]))\n"
      ],
      "metadata": {
        "colab": {
          "base_uri": "https://localhost:8080/"
        },
        "id": "1eWcv_6quh4r",
        "outputId": "3e9ca243-c712-415b-be26-4823dfb9c4c1"
      },
      "execution_count": 29,
      "outputs": [
        {
          "output_type": "stream",
          "name": "stdout",
          "text": [
            "1/1 [==============================] - 0s 13ms/step\n",
            "토 마 토 를 먹 자\n"
          ]
        }
      ]
    }
  ]
}